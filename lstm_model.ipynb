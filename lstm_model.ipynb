{
 "cells": [
  {
   "cell_type": "code",
   "execution_count": null,
   "metadata": {
    "colab": {
     "base_uri": "https://localhost:8080/",
     "height": 80
    },
    "colab_type": "code",
    "id": "bjFZafMJ_sd7",
    "outputId": "f3dc9f88-8116-4925-e004-02414d444023"
   },
   "outputs": [
    {
     "name": "stderr",
     "output_type": "stream",
     "text": [
      "Using TensorFlow backend.\n"
     ]
    },
    {
     "data": {
      "text/html": [
       "<p style=\"color: red;\">\n",
       "The default version of TensorFlow in Colab will soon switch to TensorFlow 2.x.<br>\n",
       "We recommend you <a href=\"https://www.tensorflow.org/guide/migrate\" target=\"_blank\">upgrade</a> now \n",
       "or ensure your notebook will continue to use TensorFlow 1.x via the <code>%tensorflow_version 1.x</code> magic:\n",
       "<a href=\"https://colab.research.google.com/notebooks/tensorflow_version.ipynb\" target=\"_blank\">more info</a>.</p>\n"
      ],
      "text/plain": [
       "<IPython.core.display.HTML object>"
      ]
     },
     "metadata": {
      "tags": []
     },
     "output_type": "display_data"
    }
   ],
   "source": [
    "import pandas as pd\n",
    "import numpy as np\n",
    "import matplotlib.pyplot as plt\n",
    "import seaborn as sns\n",
    "from sklearn.preprocessing import MinMaxScaler\n",
    "from sklearn.cluster import KMeans\n",
    "import pprint\n",
    "\n",
    "from keras.models import Sequential\n",
    "from keras.layers import Dense\n",
    "from keras.layers import LSTM\n",
    "from keras.layers import Dropout, SimpleRNN\n",
    "\n",
    "\n",
    "%matplotlib inline"
   ]
  },
  {
   "cell_type": "code",
   "execution_count": null,
   "metadata": {
    "colab": {
     "base_uri": "https://localhost:8080/",
     "height": 74,
     "resources": {
      "http://localhost:8080/nbextensions/google.colab/files.js": {
       "data": "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",
       "headers": [
        [
         "content-type",
         "application/javascript"
        ]
       ],
       "ok": true,
       "status": 200,
       "status_text": ""
      }
     }
    },
    "colab_type": "code",
    "id": "G_WlS_kaM4AB",
    "outputId": "01683a55-042f-4a39-fddf-d4bd420fb7fd"
   },
   "outputs": [
    {
     "data": {
      "text/html": [
       "\n",
       "     <input type=\"file\" id=\"files-432b4ce3-96f2-415b-b659-883f14cc94ae\" name=\"files[]\" multiple disabled />\n",
       "     <output id=\"result-432b4ce3-96f2-415b-b659-883f14cc94ae\">\n",
       "      Upload widget is only available when the cell has been executed in the\n",
       "      current browser session. Please rerun this cell to enable.\n",
       "      </output>\n",
       "      <script src=\"/nbextensions/google.colab/files.js\"></script> "
      ],
      "text/plain": [
       "<IPython.core.display.HTML object>"
      ]
     },
     "metadata": {
      "tags": []
     },
     "output_type": "display_data"
    },
    {
     "name": "stdout",
     "output_type": "stream",
     "text": [
      "Saving train.csv to train (1).csv\n"
     ]
    }
   ],
   "source": [
    "# Uploading local saved csv files to colab\n",
    "from google.colab import files\n",
    "uploaded = files.upload()"
   ]
  },
  {
   "cell_type": "code",
   "execution_count": null,
   "metadata": {
    "colab": {},
    "colab_type": "code",
    "id": "O5mXHiY-_tFH"
   },
   "outputs": [],
   "source": [
    "df = pd.read_csv('train.csv', parse_dates=['timestamp'], index_col='timestamp')"
   ]
  },
  {
   "cell_type": "code",
   "execution_count": null,
   "metadata": {
    "colab": {},
    "colab_type": "code",
    "id": "Ol4_cap9LT84"
   },
   "outputs": [],
   "source": []
  },
  {
   "cell_type": "code",
   "execution_count": null,
   "metadata": {
    "colab": {},
    "colab_type": "code",
    "id": "hRl2QXLeLW92"
   },
   "outputs": [],
   "source": []
  },
  {
   "cell_type": "code",
   "execution_count": null,
   "metadata": {
    "colab": {
     "base_uri": "https://localhost:8080/",
     "height": 816
    },
    "colab_type": "code",
    "id": "G-FYNrWY_tH1",
    "outputId": "3e70996f-a543-4b4e-c1ba-db6449897964"
   },
   "outputs": [
    {
     "name": "stdout",
     "output_type": "stream",
     "text": [
      "==================================================\n",
      "First Five Rows  \n",
      "\n",
      "                      main_meter  sub_meter_1  sub_meter_2  building_number\n",
      "timestamp                                                                  \n",
      "2017-04-01 00:00:00  2898.969633  1390.244624     0.000000                1\n",
      "2017-04-01 00:15:00  2531.896894  1087.313897     0.000000                1\n",
      "2017-04-01 00:30:00  2171.649138   695.625737     0.484790                1\n",
      "2017-04-01 00:45:00  2207.299159   615.496571     1.317875                1\n",
      "2017-04-01 01:00:00  2839.441067  1071.573744     0.000000                1 \n",
      "\n",
      "==================================================\n",
      "Information About Dataset \n",
      "\n",
      "<class 'pandas.core.frame.DataFrame'>\n",
      "DatetimeIndex: 132000 entries, 2017-04-01 00:00:00 to 2017-12-31 23:45:00\n",
      "Data columns (total 4 columns):\n",
      "main_meter         132000 non-null float64\n",
      "sub_meter_1        132000 non-null float64\n",
      "sub_meter_2        132000 non-null float64\n",
      "building_number    132000 non-null int64\n",
      "dtypes: float64(3), int64(1)\n",
      "memory usage: 5.0 MB\n",
      "None \n",
      "\n",
      "==================================================\n",
      "Describe the Dataset  \n",
      "\n",
      "          main_meter    sub_meter_1    sub_meter_2  building_number\n",
      "count  132000.000000  132000.000000  132000.000000    132000.000000\n",
      "mean     6095.767107    2092.888851     776.830989         3.000000\n",
      "std      3485.125319    1135.885749     883.495350         1.414219\n",
      "min        61.635635       0.000000       0.000000         1.000000\n",
      "25%      3455.911410    1365.005373       4.857540         2.000000\n",
      "50%      5362.188090    2075.676367     621.910511         3.000000\n",
      "75%      7685.405459    2772.505817    1365.898059         4.000000\n",
      "max     23174.609258   17206.162311    4392.073840         5.000000 \n",
      "\n",
      "==================================================\n",
      "Null Values t  \n",
      "\n",
      "main_meter         0\n",
      "sub_meter_1        0\n",
      "sub_meter_2        0\n",
      "building_number    0\n",
      "dtype: int64 \n",
      "\n"
     ]
    }
   ],
   "source": [
    "print(\"=\"*50)\n",
    "print(\"First Five Rows \",\"\\n\")\n",
    "print(df.head(5),\"\\n\")\n",
    "\n",
    "print(\"=\"*50)\n",
    "print(\"Information About Dataset\",\"\\n\")\n",
    "print(df.info(),\"\\n\")\n",
    "\n",
    "print(\"=\"*50)\n",
    "print(\"Describe the Dataset \",\"\\n\")\n",
    "print(df.describe(),\"\\n\")\n",
    "\n",
    "print(\"=\"*50)\n",
    "print(\"Null Values t \",\"\\n\")\n",
    "print(df.isnull().sum(),\"\\n\")"
   ]
  },
  {
   "cell_type": "code",
   "execution_count": null,
   "metadata": {
    "colab": {},
    "colab_type": "code",
    "id": "IoGBZ2lc_tKU"
   },
   "outputs": [],
   "source": [
    "df5 = df[df['building_number'] == 5]\n",
    "df4 = df[df['building_number'] == 4]\n",
    "df3 = df[df['building_number'] == 3]\n",
    "df2 = df[df['building_number'] == 2]\n",
    "df1 = df[df['building_number'] == 1]"
   ]
  },
  {
   "cell_type": "code",
   "execution_count": null,
   "metadata": {
    "colab": {
     "base_uri": "https://localhost:8080/",
     "height": 235
    },
    "colab_type": "code",
    "id": "XL7_Ebtp_tMp",
    "outputId": "54d17b1b-59d7-4a24-e241-c536cfcd7563"
   },
   "outputs": [
    {
     "data": {
      "text/html": [
       "<div>\n",
       "<style scoped>\n",
       "    .dataframe tbody tr th:only-of-type {\n",
       "        vertical-align: middle;\n",
       "    }\n",
       "\n",
       "    .dataframe tbody tr th {\n",
       "        vertical-align: top;\n",
       "    }\n",
       "\n",
       "    .dataframe thead th {\n",
       "        text-align: right;\n",
       "    }\n",
       "</style>\n",
       "<table border=\"1\" class=\"dataframe\">\n",
       "  <thead>\n",
       "    <tr style=\"text-align: right;\">\n",
       "      <th></th>\n",
       "      <th>main_meter</th>\n",
       "      <th>sub_meter_1</th>\n",
       "      <th>sub_meter_2</th>\n",
       "      <th>building_number</th>\n",
       "    </tr>\n",
       "    <tr>\n",
       "      <th>timestamp</th>\n",
       "      <th></th>\n",
       "      <th></th>\n",
       "      <th></th>\n",
       "      <th></th>\n",
       "    </tr>\n",
       "  </thead>\n",
       "  <tbody>\n",
       "    <tr>\n",
       "      <th>2017-12-31 22:45:00</th>\n",
       "      <td>2235.824452</td>\n",
       "      <td>1116.541777</td>\n",
       "      <td>0.000000</td>\n",
       "      <td>5</td>\n",
       "    </tr>\n",
       "    <tr>\n",
       "      <th>2017-12-31 23:00:00</th>\n",
       "      <td>2372.073420</td>\n",
       "      <td>1239.023765</td>\n",
       "      <td>0.000000</td>\n",
       "      <td>5</td>\n",
       "    </tr>\n",
       "    <tr>\n",
       "      <th>2017-12-31 23:15:00</th>\n",
       "      <td>2339.986234</td>\n",
       "      <td>1155.845219</td>\n",
       "      <td>0.000000</td>\n",
       "      <td>5</td>\n",
       "    </tr>\n",
       "    <tr>\n",
       "      <th>2017-12-31 23:30:00</th>\n",
       "      <td>2307.052698</td>\n",
       "      <td>1175.130243</td>\n",
       "      <td>0.000000</td>\n",
       "      <td>5</td>\n",
       "    </tr>\n",
       "    <tr>\n",
       "      <th>2017-12-31 23:45:00</th>\n",
       "      <td>2322.664247</td>\n",
       "      <td>1187.947272</td>\n",
       "      <td>9.424013</td>\n",
       "      <td>5</td>\n",
       "    </tr>\n",
       "  </tbody>\n",
       "</table>\n",
       "</div>"
      ],
      "text/plain": [
       "                      main_meter  sub_meter_1  sub_meter_2  building_number\n",
       "timestamp                                                                  \n",
       "2017-12-31 22:45:00  2235.824452  1116.541777     0.000000                5\n",
       "2017-12-31 23:00:00  2372.073420  1239.023765     0.000000                5\n",
       "2017-12-31 23:15:00  2339.986234  1155.845219     0.000000                5\n",
       "2017-12-31 23:30:00  2307.052698  1175.130243     0.000000                5\n",
       "2017-12-31 23:45:00  2322.664247  1187.947272     9.424013                5"
      ]
     },
     "execution_count": 7,
     "metadata": {
      "tags": []
     },
     "output_type": "execute_result"
    }
   ],
   "source": [
    "df5.tail()"
   ]
  },
  {
   "cell_type": "code",
   "execution_count": null,
   "metadata": {
    "colab": {},
    "colab_type": "code",
    "id": "MQICKB3p_tPT"
   },
   "outputs": [],
   "source": [
    "sub_meter_1 = df5['sub_meter_1']\n",
    "main_meter = df5['main_meter']\n",
    "sub_meter_1 = df4['sub_meter_1']\n",
    "main_meter = df4['main_meter']\n",
    "sub_meter_1 = df3['sub_meter_1']\n",
    "main_meter = df3['main_meter']\n",
    "sub_meter_1 = df2['sub_meter_1']\n",
    "main_meter = df2['main_meter']\n",
    "sub_meter_1 = df1['sub_meter_1']\n",
    "main_meter = df1['main_meter']"
   ]
  },
  {
   "cell_type": "code",
   "execution_count": null,
   "metadata": {
    "colab": {
     "base_uri": "https://localhost:8080/",
     "height": 102
    },
    "colab_type": "code",
    "id": "qwJfVstv_tR1",
    "outputId": "773dfbe2-795a-492f-eaef-88e00561bb95"
   },
   "outputs": [
    {
     "name": "stderr",
     "output_type": "stream",
     "text": [
      "/usr/local/lib/python3.6/dist-packages/pandas/core/frame.py:4117: SettingWithCopyWarning: \n",
      "A value is trying to be set on a copy of a slice from a DataFrame\n",
      "\n",
      "See the caveats in the documentation: http://pandas.pydata.org/pandas-docs/stable/user_guide/indexing.html#returning-a-view-versus-a-copy\n",
      "  errors=errors,\n"
     ]
    }
   ],
   "source": [
    "df5.drop(['sub_meter_1', 'main_meter', 'building_number'], axis=1, inplace=True)\n",
    "df4.drop(['sub_meter_1', 'main_meter', 'building_number'], axis=1, inplace=True)\n",
    "df3.drop(['sub_meter_1', 'main_meter', 'building_number'], axis=1, inplace=True)\n",
    "df2.drop(['sub_meter_1', 'main_meter', 'building_number'], axis=1, inplace=True)\n",
    "df1.drop(['sub_meter_1', 'main_meter', 'building_number'], axis=1, inplace=True)"
   ]
  },
  {
   "cell_type": "code",
   "execution_count": null,
   "metadata": {
    "colab": {
     "base_uri": "https://localhost:8080/",
     "height": 235
    },
    "colab_type": "code",
    "id": "2Fi3O4yK_tUX",
    "outputId": "79efcf22-8cf1-48c2-c26e-a463e4a1ff36"
   },
   "outputs": [
    {
     "data": {
      "text/html": [
       "<div>\n",
       "<style scoped>\n",
       "    .dataframe tbody tr th:only-of-type {\n",
       "        vertical-align: middle;\n",
       "    }\n",
       "\n",
       "    .dataframe tbody tr th {\n",
       "        vertical-align: top;\n",
       "    }\n",
       "\n",
       "    .dataframe thead th {\n",
       "        text-align: right;\n",
       "    }\n",
       "</style>\n",
       "<table border=\"1\" class=\"dataframe\">\n",
       "  <thead>\n",
       "    <tr style=\"text-align: right;\">\n",
       "      <th></th>\n",
       "      <th>sub_meter_2</th>\n",
       "    </tr>\n",
       "    <tr>\n",
       "      <th>timestamp</th>\n",
       "      <th></th>\n",
       "    </tr>\n",
       "  </thead>\n",
       "  <tbody>\n",
       "    <tr>\n",
       "      <th>2017-04-01 00:00:00</th>\n",
       "      <td>0.000000</td>\n",
       "    </tr>\n",
       "    <tr>\n",
       "      <th>2017-04-01 00:15:00</th>\n",
       "      <td>0.000000</td>\n",
       "    </tr>\n",
       "    <tr>\n",
       "      <th>2017-04-01 00:30:00</th>\n",
       "      <td>0.484790</td>\n",
       "    </tr>\n",
       "    <tr>\n",
       "      <th>2017-04-01 00:45:00</th>\n",
       "      <td>1.317875</td>\n",
       "    </tr>\n",
       "    <tr>\n",
       "      <th>2017-04-01 01:00:00</th>\n",
       "      <td>0.000000</td>\n",
       "    </tr>\n",
       "  </tbody>\n",
       "</table>\n",
       "</div>"
      ],
      "text/plain": [
       "                     sub_meter_2\n",
       "timestamp                       \n",
       "2017-04-01 00:00:00     0.000000\n",
       "2017-04-01 00:15:00     0.000000\n",
       "2017-04-01 00:30:00     0.484790\n",
       "2017-04-01 00:45:00     1.317875\n",
       "2017-04-01 01:00:00     0.000000"
      ]
     },
     "execution_count": 10,
     "metadata": {
      "tags": []
     },
     "output_type": "execute_result"
    }
   ],
   "source": [
    "df1.head()"
   ]
  },
  {
   "cell_type": "code",
   "execution_count": null,
   "metadata": {
    "colab": {
     "base_uri": "https://localhost:8080/",
     "height": 291
    },
    "colab_type": "code",
    "id": "lXWGARkT_tXE",
    "outputId": "f4385211-c88f-416f-f19a-d99f9e37caf1"
   },
   "outputs": [
    {
     "data": {
      "image/png": "[encoded data removed]",
      "text/plain": [
       "<Figure size 1152x288 with 1 Axes>"
      ]
     },
     "metadata": {
      "tags": []
     },
     "output_type": "display_data"
    }
   ],
   "source": [
    "df5.plot(figsize=(16,4),legend=True)\n",
    "plt.show()"
   ]
  },
  {
   "cell_type": "code",
   "execution_count": null,
   "metadata": {
    "colab": {},
    "colab_type": "code",
    "id": "c9mGEOxB_tZ4"
   },
   "outputs": [],
   "source": [
    "import sklearn.preprocessing\n",
    "from sklearn.metrics import r2_score"
   ]
  },
  {
   "cell_type": "code",
   "execution_count": null,
   "metadata": {
    "colab": {
     "base_uri": "https://localhost:8080/",
     "height": 527
    },
    "colab_type": "code",
    "id": "UoCCuR1P_tc0",
    "outputId": "4e548563-2444-4ba4-9814-a7edad4cb8e7"
   },
   "outputs": [
    {
     "name": "stderr",
     "output_type": "stream",
     "text": [
      "/usr/local/lib/python3.6/dist-packages/ipykernel_launcher.py:2: SettingWithCopyWarning: \n",
      "A value is trying to be set on a copy of a slice from a DataFrame.\n",
      "Try using .loc[row_indexer,col_indexer] = value instead\n",
      "\n",
      "See the caveats in the documentation: http://pandas.pydata.org/pandas-docs/stable/user_guide/indexing.html#returning-a-view-versus-a-copy\n",
      "  \n",
      "/usr/local/lib/python3.6/dist-packages/ipykernel_launcher.py:3: SettingWithCopyWarning: \n",
      "A value is trying to be set on a copy of a slice from a DataFrame.\n",
      "Try using .loc[row_indexer,col_indexer] = value instead\n",
      "\n",
      "See the caveats in the documentation: http://pandas.pydata.org/pandas-docs/stable/user_guide/indexing.html#returning-a-view-versus-a-copy\n",
      "  This is separate from the ipykernel package so we can avoid doing imports until\n",
      "/usr/local/lib/python3.6/dist-packages/ipykernel_launcher.py:4: SettingWithCopyWarning: \n",
      "A value is trying to be set on a copy of a slice from a DataFrame.\n",
      "Try using .loc[row_indexer,col_indexer] = value instead\n",
      "\n",
      "See the caveats in the documentation: http://pandas.pydata.org/pandas-docs/stable/user_guide/indexing.html#returning-a-view-versus-a-copy\n",
      "  after removing the cwd from sys.path.\n",
      "/usr/local/lib/python3.6/dist-packages/ipykernel_launcher.py:5: SettingWithCopyWarning: \n",
      "A value is trying to be set on a copy of a slice from a DataFrame.\n",
      "Try using .loc[row_indexer,col_indexer] = value instead\n",
      "\n",
      "See the caveats in the documentation: http://pandas.pydata.org/pandas-docs/stable/user_guide/indexing.html#returning-a-view-versus-a-copy\n",
      "  \"\"\"\n",
      "/usr/local/lib/python3.6/dist-packages/ipykernel_launcher.py:6: SettingWithCopyWarning: \n",
      "A value is trying to be set on a copy of a slice from a DataFrame.\n",
      "Try using .loc[row_indexer,col_indexer] = value instead\n",
      "\n",
      "See the caveats in the documentation: http://pandas.pydata.org/pandas-docs/stable/user_guide/indexing.html#returning-a-view-versus-a-copy\n",
      "  \n"
     ]
    }
   ],
   "source": [
    "scaler = sklearn.preprocessing.MinMaxScaler()\n",
    "df5['sub_meter_2']=scaler.fit_transform(df5['sub_meter_2'].values.reshape(-1,1))\n",
    "df4['sub_meter_2']=scaler.fit_transform(df5['sub_meter_2'].values.reshape(-1,1))\n",
    "df3['sub_meter_2']=scaler.fit_transform(df5['sub_meter_2'].values.reshape(-1,1))\n",
    "df2['sub_meter_2']=scaler.fit_transform(df5['sub_meter_2'].values.reshape(-1,1))\n",
    "df1['sub_meter_2']=scaler.fit_transform(df5['sub_meter_2'].values.reshape(-1,1))"
   ]
  },
  {
   "cell_type": "code",
   "execution_count": null,
   "metadata": {
    "colab": {
     "base_uri": "https://localhost:8080/",
     "height": 450
    },
    "colab_type": "code",
    "id": "ExElCHvH_tfl",
    "outputId": "eba79fc9-81c5-4835-931f-27fbdd7dd718"
   },
   "outputs": [
    {
     "data": {
      "text/html": [
       "<div>\n",
       "<style scoped>\n",
       "    .dataframe tbody tr th:only-of-type {\n",
       "        vertical-align: middle;\n",
       "    }\n",
       "\n",
       "    .dataframe tbody tr th {\n",
       "        vertical-align: top;\n",
       "    }\n",
       "\n",
       "    .dataframe thead th {\n",
       "        text-align: right;\n",
       "    }\n",
       "</style>\n",
       "<table border=\"1\" class=\"dataframe\">\n",
       "  <thead>\n",
       "    <tr style=\"text-align: right;\">\n",
       "      <th></th>\n",
       "      <th>sub_meter_2</th>\n",
       "    </tr>\n",
       "    <tr>\n",
       "      <th>timestamp</th>\n",
       "      <th></th>\n",
       "    </tr>\n",
       "  </thead>\n",
       "  <tbody>\n",
       "    <tr>\n",
       "      <th>2017-04-01 00:00:00</th>\n",
       "      <td>0.000000</td>\n",
       "    </tr>\n",
       "    <tr>\n",
       "      <th>2017-04-01 00:15:00</th>\n",
       "      <td>0.000000</td>\n",
       "    </tr>\n",
       "    <tr>\n",
       "      <th>2017-04-01 00:30:00</th>\n",
       "      <td>0.005507</td>\n",
       "    </tr>\n",
       "    <tr>\n",
       "      <th>2017-04-01 00:45:00</th>\n",
       "      <td>0.000000</td>\n",
       "    </tr>\n",
       "    <tr>\n",
       "      <th>2017-04-01 01:00:00</th>\n",
       "      <td>0.000000</td>\n",
       "    </tr>\n",
       "    <tr>\n",
       "      <th>...</th>\n",
       "      <td>...</td>\n",
       "    </tr>\n",
       "    <tr>\n",
       "      <th>2017-12-31 22:45:00</th>\n",
       "      <td>0.000000</td>\n",
       "    </tr>\n",
       "    <tr>\n",
       "      <th>2017-12-31 23:00:00</th>\n",
       "      <td>0.000000</td>\n",
       "    </tr>\n",
       "    <tr>\n",
       "      <th>2017-12-31 23:15:00</th>\n",
       "      <td>0.000000</td>\n",
       "    </tr>\n",
       "    <tr>\n",
       "      <th>2017-12-31 23:30:00</th>\n",
       "      <td>0.000000</td>\n",
       "    </tr>\n",
       "    <tr>\n",
       "      <th>2017-12-31 23:45:00</th>\n",
       "      <td>0.006746</td>\n",
       "    </tr>\n",
       "  </tbody>\n",
       "</table>\n",
       "<p>26400 rows × 1 columns</p>\n",
       "</div>"
      ],
      "text/plain": [
       "                     sub_meter_2\n",
       "timestamp                       \n",
       "2017-04-01 00:00:00     0.000000\n",
       "2017-04-01 00:15:00     0.000000\n",
       "2017-04-01 00:30:00     0.005507\n",
       "2017-04-01 00:45:00     0.000000\n",
       "2017-04-01 01:00:00     0.000000\n",
       "...                          ...\n",
       "2017-12-31 22:45:00     0.000000\n",
       "2017-12-31 23:00:00     0.000000\n",
       "2017-12-31 23:15:00     0.000000\n",
       "2017-12-31 23:30:00     0.000000\n",
       "2017-12-31 23:45:00     0.006746\n",
       "\n",
       "[26400 rows x 1 columns]"
      ]
     },
     "execution_count": 14,
     "metadata": {
      "tags": []
     },
     "output_type": "execute_result"
    }
   ],
   "source": [
    "df1"
   ]
  },
  {
   "cell_type": "code",
   "execution_count": null,
   "metadata": {
    "colab": {
     "base_uri": "https://localhost:8080/",
     "height": 307
    },
    "colab_type": "code",
    "id": "p3WgemYI_tiH",
    "outputId": "21e26136-e811-4d9b-d77e-9a55cbbaaace"
   },
   "outputs": [
    {
     "data": {
      "image/png": "[encoded data removed]",
      "text/plain": [
       "<Figure size 1152x288 with 1 Axes>"
      ]
     },
     "metadata": {
      "tags": []
     },
     "output_type": "display_data"
    }
   ],
   "source": [
    "df1.plot(figsize=(16,4),legend=True)\n",
    "\n",
    "plt.title('hourly power consumption data - AFTER NORMALIZATION')\n",
    "\n",
    "plt.show()"
   ]
  },
  {
   "cell_type": "code",
   "execution_count": null,
   "metadata": {
    "colab": {
     "base_uri": "https://localhost:8080/",
     "height": 34
    },
    "colab_type": "code",
    "id": "S_rcvxfx_tkt",
    "outputId": "a0030aff-bb02-43ed-c774-803e1aed7fc1"
   },
   "outputs": [
    {
     "data": {
      "text/plain": [
       "(26400, 1)"
      ]
     },
     "execution_count": 16,
     "metadata": {
      "tags": []
     },
     "output_type": "execute_result"
    }
   ],
   "source": [
    "df1.shape"
   ]
  },
  {
   "cell_type": "code",
   "execution_count": null,
   "metadata": {
    "colab": {},
    "colab_type": "code",
    "id": "9pkEGEBW_tna"
   },
   "outputs": [],
   "source": [
    "def load_data(stock, seq_len):\n",
    "    X_train = []\n",
    "    y_train = []\n",
    "    for i in range(seq_len, len(stock)):\n",
    "        X_train.append(stock.iloc[i-seq_len : i, 0])\n",
    "        y_train.append(stock.iloc[i, 0])\n",
    "    \n",
    "    #1 last 30 days are going to be used in test\n",
    "    #X_test = X_train[23520:]             \n",
    "    #y_test = y_train[23520:]\n",
    "    \n",
    "    #2 first ... days are going to be used in training\n",
    "    #X_train = X_train[:23520]           \n",
    "    #y_train = y_train[:23520]\n",
    "    \n",
    "    #3 convert to numpy array\n",
    "    X_train = np.array(X_train)\n",
    "    y_train = np.array(y_train)\n",
    "    \n",
    "    #X_test = np.array(X_test)\n",
    "    #y_test = np.array(y_test)\n",
    "    \n",
    "    #4 reshape data to input into lstm models\n",
    "    X_train = np.reshape(X_train, (len(X_train), seq_len, 1))\n",
    "    \n",
    "    #X_test = np.reshape(X_test, (X_test.shape[0], seq_len, 1))\n",
    "    \n",
    "    return X_train, y_train"
   ]
  },
  {
   "cell_type": "code",
   "execution_count": null,
   "metadata": {
    "colab": {
     "base_uri": "https://localhost:8080/",
     "height": 51
    },
    "colab_type": "code",
    "id": "-ItT21Mt_tp9",
    "outputId": "c5a85efe-4d9c-4985-d0f6-774940cea517"
   },
   "outputs": [
    {
     "name": "stdout",
     "output_type": "stream",
     "text": [
      "X_train.shape =  (26380, 20, 1)\n",
      "y_train.shape =  (26380,)\n"
     ]
    }
   ],
   "source": [
    "#create train, test data\n",
    "seq_len = 20 #choose sequence length also check it for 1 day\n",
    "\n",
    "X_train, y_train = load_data(df1, seq_len)\n",
    "\n",
    "print('X_train.shape = ',X_train.shape)\n",
    "print('y_train.shape = ', y_train.shape)\n",
    "#print('X_test.shape = ', X_test.shape)\n",
    "#print('y_test.shape = ',y_test.shape)"
   ]
  },
  {
   "cell_type": "code",
   "execution_count": null,
   "metadata": {
    "colab": {
     "base_uri": "https://localhost:8080/",
     "height": 598
    },
    "colab_type": "code",
    "id": "OnWZudLo_ts0",
    "outputId": "dade4544-8d3e-4443-9137-d5f266fafd61"
   },
   "outputs": [
    {
     "name": "stdout",
     "output_type": "stream",
     "text": [
      "WARNING:tensorflow:From /usr/local/lib/python3.6/dist-packages/keras/backend/tensorflow_backend.py:66: The name tf.get_default_graph is deprecated. Please use tf.compat.v1.get_default_graph instead.\n",
      "\n",
      "WARNING:tensorflow:From /usr/local/lib/python3.6/dist-packages/keras/backend/tensorflow_backend.py:541: The name tf.placeholder is deprecated. Please use tf.compat.v1.placeholder instead.\n",
      "\n",
      "WARNING:tensorflow:From /usr/local/lib/python3.6/dist-packages/keras/backend/tensorflow_backend.py:4432: The name tf.random_uniform is deprecated. Please use tf.random.uniform instead.\n",
      "\n",
      "WARNING:tensorflow:From /usr/local/lib/python3.6/dist-packages/keras/backend/tensorflow_backend.py:148: The name tf.placeholder_with_default is deprecated. Please use tf.compat.v1.placeholder_with_default instead.\n",
      "\n",
      "WARNING:tensorflow:From /usr/local/lib/python3.6/dist-packages/keras/backend/tensorflow_backend.py:3733: calling dropout (from tensorflow.python.ops.nn_ops) with keep_prob is deprecated and will be removed in a future version.\n",
      "Instructions for updating:\n",
      "Please use `rate` instead of `keep_prob`. Rate should be set to `rate = 1 - keep_prob`.\n",
      "Model: \"sequential_1\"\n",
      "_________________________________________________________________\n",
      "Layer (type)                 Output Shape              Param #   \n",
      "=================================================================\n",
      "lstm_1 (LSTM)                (None, 20, 70)            20160     \n",
      "_________________________________________________________________\n",
      "dropout_1 (Dropout)          (None, 20, 70)            0         \n",
      "_________________________________________________________________\n",
      "lstm_2 (LSTM)                (None, 20, 70)            39480     \n",
      "_________________________________________________________________\n",
      "dropout_2 (Dropout)          (None, 20, 70)            0         \n",
      "_________________________________________________________________\n",
      "lstm_3 (LSTM)                (None, 70)                39480     \n",
      "_________________________________________________________________\n",
      "dropout_3 (Dropout)          (None, 70)                0         \n",
      "_________________________________________________________________\n",
      "dense_1 (Dense)              (None, 1)                 71        \n",
      "=================================================================\n",
      "Total params: 99,191\n",
      "Trainable params: 99,191\n",
      "Non-trainable params: 0\n",
      "_________________________________________________________________\n"
     ]
    }
   ],
   "source": [
    "lstm_model = Sequential()\n",
    "\n",
    "lstm_model.add(LSTM(70,activation=\"tanh\",return_sequences=True, input_shape=(X_train.shape[1],1)))\n",
    "lstm_model.add(Dropout(0.20))\n",
    "\n",
    "lstm_model.add(LSTM(70,activation=\"tanh\",return_sequences=True))\n",
    "lstm_model.add(Dropout(0.20))\n",
    "\n",
    "lstm_model.add(LSTM(70,activation=\"tanh\",return_sequences=False))\n",
    "lstm_model.add(Dropout(0.20))\n",
    "\n",
    "lstm_model.add(Dense(1))\n",
    "\n",
    "lstm_model.summary()"
   ]
  },
  {
   "cell_type": "code",
   "execution_count": null,
   "metadata": {
    "colab": {
     "base_uri": "https://localhost:8080/",
     "height": 1000
    },
    "colab_type": "code",
    "id": "ZpzyGcPT_tvi",
    "outputId": "7092a0e3-ea21-450f-f125-6dbcbeb9a36f"
   },
   "outputs": [
    {
     "name": "stdout",
     "output_type": "stream",
     "text": [
      "WARNING:tensorflow:From /usr/local/lib/python3.6/dist-packages/keras/optimizers.py:793: The name tf.train.Optimizer is deprecated. Please use tf.compat.v1.train.Optimizer instead.\n",
      "\n",
      "WARNING:tensorflow:From /usr/local/lib/python3.6/dist-packages/tensorflow_core/python/ops/math_grad.py:1424: where (from tensorflow.python.ops.array_ops) is deprecated and will be removed in a future version.\n",
      "Instructions for updating:\n",
      "Use tf.where in 2.0, which has the same broadcast rule as np.where\n",
      "WARNING:tensorflow:From /usr/local/lib/python3.6/dist-packages/keras/backend/tensorflow_backend.py:1033: The name tf.assign_add is deprecated. Please use tf.compat.v1.assign_add instead.\n",
      "\n",
      "WARNING:tensorflow:From /usr/local/lib/python3.6/dist-packages/keras/backend/tensorflow_backend.py:1020: The name tf.assign is deprecated. Please use tf.compat.v1.assign instead.\n",
      "\n",
      "WARNING:tensorflow:From /usr/local/lib/python3.6/dist-packages/keras/backend/tensorflow_backend.py:3005: The name tf.Session is deprecated. Please use tf.compat.v1.Session instead.\n",
      "\n",
      "Epoch 1/70\n",
      "WARNING:tensorflow:From /usr/local/lib/python3.6/dist-packages/keras/backend/tensorflow_backend.py:190: The name tf.get_default_session is deprecated. Please use tf.compat.v1.get_default_session instead.\n",
      "\n",
      "WARNING:tensorflow:From /usr/local/lib/python3.6/dist-packages/keras/backend/tensorflow_backend.py:197: The name tf.ConfigProto is deprecated. Please use tf.compat.v1.ConfigProto instead.\n",
      "\n",
      "WARNING:tensorflow:From /usr/local/lib/python3.6/dist-packages/keras/backend/tensorflow_backend.py:207: The name tf.global_variables is deprecated. Please use tf.compat.v1.global_variables instead.\n",
      "\n",
      "WARNING:tensorflow:From /usr/local/lib/python3.6/dist-packages/keras/backend/tensorflow_backend.py:216: The name tf.is_variable_initialized is deprecated. Please use tf.compat.v1.is_variable_initialized instead.\n",
      "\n",
      "WARNING:tensorflow:From /usr/local/lib/python3.6/dist-packages/keras/backend/tensorflow_backend.py:223: The name tf.variables_initializer is deprecated. Please use tf.compat.v1.variables_initializer instead.\n",
      "\n",
      "26380/26380 [==============================] - 20s 771us/step - loss: 0.1546\n",
      "Epoch 2/70\n",
      "26380/26380 [==============================] - 18s 695us/step - loss: 0.0792\n",
      "Epoch 3/70\n",
      "26380/26380 [==============================] - 18s 685us/step - loss: 0.0592\n",
      "Epoch 4/70\n",
      "26380/26380 [==============================] - 18s 680us/step - loss: 0.0514\n",
      "Epoch 5/70\n",
      "26380/26380 [==============================] - 18s 681us/step - loss: 0.0450\n",
      "Epoch 6/70\n",
      "26380/26380 [==============================] - 18s 686us/step - loss: 0.0397\n",
      "Epoch 7/70\n",
      "26380/26380 [==============================] - 18s 689us/step - loss: 0.0345\n",
      "Epoch 8/70\n",
      "26380/26380 [==============================] - 18s 691us/step - loss: 0.0306\n",
      "Epoch 9/70\n",
      "26380/26380 [==============================] - 18s 690us/step - loss: 0.0273\n",
      "Epoch 10/70\n",
      "26380/26380 [==============================] - 19s 702us/step - loss: 0.0249\n",
      "Epoch 11/70\n",
      "26380/26380 [==============================] - 18s 690us/step - loss: 0.0230\n",
      "Epoch 12/70\n",
      "26380/26380 [==============================] - 18s 687us/step - loss: 0.0214\n",
      "Epoch 13/70\n",
      "26380/26380 [==============================] - 18s 686us/step - loss: 0.0198\n",
      "Epoch 14/70\n",
      "26380/26380 [==============================] - 18s 688us/step - loss: 0.0189\n",
      "Epoch 15/70\n",
      "26380/26380 [==============================] - 18s 684us/step - loss: 0.0179\n",
      "Epoch 16/70\n",
      "26380/26380 [==============================] - 18s 687us/step - loss: 0.0170\n",
      "Epoch 17/70\n",
      "26380/26380 [==============================] - 18s 685us/step - loss: 0.0163\n",
      "Epoch 18/70\n",
      "26380/26380 [==============================] - 18s 688us/step - loss: 0.0160\n",
      "Epoch 19/70\n",
      "26380/26380 [==============================] - 18s 700us/step - loss: 0.0156\n",
      "Epoch 20/70\n",
      "26380/26380 [==============================] - 18s 686us/step - loss: 0.0153\n",
      "Epoch 21/70\n",
      "26380/26380 [==============================] - 18s 687us/step - loss: 0.0152\n",
      "Epoch 22/70\n",
      "26380/26380 [==============================] - 18s 685us/step - loss: 0.0147\n",
      "Epoch 23/70\n",
      "26380/26380 [==============================] - 18s 685us/step - loss: 0.0146\n",
      "Epoch 24/70\n",
      "26380/26380 [==============================] - 18s 690us/step - loss: 0.0146\n",
      "Epoch 25/70\n",
      "26380/26380 [==============================] - 18s 689us/step - loss: 0.0145\n",
      "Epoch 26/70\n",
      "26380/26380 [==============================] - 18s 688us/step - loss: 0.0143\n",
      "Epoch 27/70\n",
      "26380/26380 [==============================] - 18s 698us/step - loss: 0.0142\n",
      "Epoch 28/70\n",
      "26380/26380 [==============================] - 18s 687us/step - loss: 0.0141\n",
      "Epoch 29/70\n",
      "26380/26380 [==============================] - 18s 692us/step - loss: 0.0139\n",
      "Epoch 30/70\n",
      "26380/26380 [==============================] - 18s 683us/step - loss: 0.0140\n",
      "Epoch 31/70\n",
      "26380/26380 [==============================] - 18s 686us/step - loss: 0.0137\n",
      "Epoch 32/70\n",
      "26380/26380 [==============================] - 18s 684us/step - loss: 0.0137\n",
      "Epoch 33/70\n",
      "26380/26380 [==============================] - 18s 681us/step - loss: 0.0136\n",
      "Epoch 34/70\n",
      "26380/26380 [==============================] - 18s 687us/step - loss: 0.0135\n",
      "Epoch 35/70\n",
      "26380/26380 [==============================] - 18s 686us/step - loss: 0.0133\n",
      "Epoch 36/70\n",
      "26380/26380 [==============================] - 19s 702us/step - loss: 0.0135\n",
      "Epoch 37/70\n",
      "26380/26380 [==============================] - 18s 689us/step - loss: 0.0132\n",
      "Epoch 38/70\n",
      "26380/26380 [==============================] - 18s 688us/step - loss: 0.0129\n",
      "Epoch 39/70\n",
      "26380/26380 [==============================] - 18s 697us/step - loss: 0.0129\n",
      "Epoch 40/70\n",
      "26380/26380 [==============================] - 18s 692us/step - loss: 0.0126\n",
      "Epoch 41/70\n",
      "26380/26380 [==============================] - 18s 694us/step - loss: 0.0128\n",
      "Epoch 42/70\n",
      "26380/26380 [==============================] - 18s 695us/step - loss: 0.0125\n",
      "Epoch 43/70\n",
      "26380/26380 [==============================] - 18s 685us/step - loss: 0.0126\n",
      "Epoch 44/70\n",
      "26380/26380 [==============================] - 18s 698us/step - loss: 0.0125\n",
      "Epoch 45/70\n",
      "26380/26380 [==============================] - 18s 690us/step - loss: 0.0124\n",
      "Epoch 46/70\n",
      "26380/26380 [==============================] - 18s 687us/step - loss: 0.0122\n",
      "Epoch 47/70\n",
      "26380/26380 [==============================] - 18s 686us/step - loss: 0.0120\n",
      "Epoch 48/70\n",
      "26380/26380 [==============================] - 18s 683us/step - loss: 0.0118\n",
      "Epoch 49/70\n",
      "26380/26380 [==============================] - 18s 687us/step - loss: 0.0118\n",
      "Epoch 50/70\n",
      "26380/26380 [==============================] - 18s 683us/step - loss: 0.0116\n",
      "Epoch 51/70\n",
      "26380/26380 [==============================] - 18s 686us/step - loss: 0.0114\n",
      "Epoch 52/70\n",
      "26380/26380 [==============================] - 18s 682us/step - loss: 0.0114\n",
      "Epoch 53/70\n",
      "26380/26380 [==============================] - 18s 691us/step - loss: 0.0113\n",
      "Epoch 54/70\n",
      "26380/26380 [==============================] - 18s 684us/step - loss: 0.0112\n",
      "Epoch 55/70\n",
      "26380/26380 [==============================] - 18s 685us/step - loss: 0.0112\n",
      "Epoch 56/70\n",
      "26380/26380 [==============================] - 18s 683us/step - loss: 0.0112\n",
      "Epoch 57/70\n",
      "26380/26380 [==============================] - 18s 687us/step - loss: 0.0112\n",
      "Epoch 58/70\n",
      "26380/26380 [==============================] - 18s 688us/step - loss: 0.0109\n",
      "Epoch 59/70\n",
      "26380/26380 [==============================] - 18s 685us/step - loss: 0.0111\n",
      "Epoch 60/70\n",
      "26380/26380 [==============================] - 18s 683us/step - loss: 0.0109\n",
      "Epoch 61/70\n",
      "26380/26380 [==============================] - 18s 693us/step - loss: 0.0108\n",
      "Epoch 62/70\n",
      "26380/26380 [==============================] - 18s 699us/step - loss: 0.0107\n",
      "Epoch 63/70\n",
      "26380/26380 [==============================] - 18s 684us/step - loss: 0.0107\n",
      "Epoch 64/70\n",
      "26380/26380 [==============================] - 18s 691us/step - loss: 0.0105\n",
      "Epoch 65/70\n",
      "26380/26380 [==============================] - 18s 687us/step - loss: 0.0106\n",
      "Epoch 66/70\n",
      "26380/26380 [==============================] - 18s 683us/step - loss: 0.0107\n",
      "Epoch 67/70\n",
      "26380/26380 [==============================] - 18s 686us/step - loss: 0.0106\n",
      "Epoch 68/70\n",
      "26380/26380 [==============================] - 18s 687us/step - loss: 0.0102\n",
      "Epoch 69/70\n",
      "26380/26380 [==============================] - 18s 686us/step - loss: 0.0105\n",
      "Epoch 70/70\n",
      "26380/26380 [==============================] - 18s 695us/step - loss: 0.0105\n"
     ]
    },
    {
     "data": {
      "text/plain": [
       "<keras.callbacks.History at 0x7f5c277b9710>"
      ]
     },
     "execution_count": 20,
     "metadata": {
      "tags": []
     },
     "output_type": "execute_result"
    }
   ],
   "source": [
    "lstm_model.compile(optimizer=\"adam\",loss=\"MSE\")\n",
    "lstm_model.fit(X_train, y_train, epochs=70, batch_size=1024)"
   ]
  },
  {
   "cell_type": "code",
   "execution_count": null,
   "metadata": {
    "colab": {
     "base_uri": "https://localhost:8080/",
     "height": 51
    },
    "colab_type": "code",
    "id": "nllYNoXS_uYk",
    "outputId": "e617752e-3be5-4081-a3de-586945a5269b"
   },
   "outputs": [
    {
     "name": "stdout",
     "output_type": "stream",
     "text": [
      "X_train.shape =  (26380, 20, 1)\n",
      "y_train.shape =  (26380,)\n"
     ]
    }
   ],
   "source": [
    "#create train, test data\n",
    "seq_len = 20 #choose sequence length also check it for 1 day\n",
    "\n",
    "X_train, y_train = load_data(df2, seq_len)\n",
    "\n",
    "print('X_train.shape = ',X_train.shape)\n",
    "print('y_train.shape = ', y_train.shape)\n",
    "#print('X_test.shape = ', X_test.shape)\n",
    "#print('y_test.shape = ',y_test.shape)"
   ]
  },
  {
   "cell_type": "code",
   "execution_count": null,
   "metadata": {
    "colab": {
     "base_uri": "https://localhost:8080/",
     "height": 391
    },
    "colab_type": "code",
    "id": "lOT0SPZ2_ukV",
    "outputId": "a465b209-970b-410d-8243-d48ad3db2fee"
   },
   "outputs": [
    {
     "name": "stdout",
     "output_type": "stream",
     "text": [
      "Model: \"sequential_2\"\n",
      "_________________________________________________________________\n",
      "Layer (type)                 Output Shape              Param #   \n",
      "=================================================================\n",
      "lstm_4 (LSTM)                (None, 20, 70)            20160     \n",
      "_________________________________________________________________\n",
      "dropout_4 (Dropout)          (None, 20, 70)            0         \n",
      "_________________________________________________________________\n",
      "lstm_5 (LSTM)                (None, 20, 70)            39480     \n",
      "_________________________________________________________________\n",
      "dropout_5 (Dropout)          (None, 20, 70)            0         \n",
      "_________________________________________________________________\n",
      "lstm_6 (LSTM)                (None, 70)                39480     \n",
      "_________________________________________________________________\n",
      "dropout_6 (Dropout)          (None, 70)                0         \n",
      "_________________________________________________________________\n",
      "dense_2 (Dense)              (None, 1)                 71        \n",
      "=================================================================\n",
      "Total params: 99,191\n",
      "Trainable params: 99,191\n",
      "Non-trainable params: 0\n",
      "_________________________________________________________________\n"
     ]
    }
   ],
   "source": [
    "lstm_model2 = Sequential()\n",
    "\n",
    "lstm_model2.add(LSTM(70,activation=\"tanh\",return_sequences=True, input_shape=(X_train.shape[1],1)))\n",
    "lstm_model2.add(Dropout(0.20))\n",
    "\n",
    "lstm_model2.add(LSTM(70,activation=\"tanh\",return_sequences=True))\n",
    "lstm_model2.add(Dropout(0.20))\n",
    "\n",
    "lstm_model2.add(LSTM(70,activation=\"tanh\",return_sequences=False))\n",
    "lstm_model2.add(Dropout(0.20))\n",
    "\n",
    "lstm_model2.add(Dense(1))\n",
    "\n",
    "lstm_model2.summary()"
   ]
  },
  {
   "cell_type": "code",
   "execution_count": null,
   "metadata": {
    "colab": {
     "base_uri": "https://localhost:8080/",
     "height": 1000
    },
    "colab_type": "code",
    "id": "fe6PYWrY_ug5",
    "outputId": "9f8946c1-6255-47ca-e0a0-c1c437887830"
   },
   "outputs": [
    {
     "name": "stdout",
     "output_type": "stream",
     "text": [
      "Epoch 1/70\n",
      "26380/26380 [==============================] - 21s 792us/step - loss: 0.1746\n",
      "Epoch 2/70\n",
      "26380/26380 [==============================] - 18s 684us/step - loss: 0.0906\n",
      "Epoch 3/70\n",
      "26380/26380 [==============================] - 18s 677us/step - loss: 0.0616\n",
      "Epoch 4/70\n",
      "26380/26380 [==============================] - 18s 681us/step - loss: 0.0525\n",
      "Epoch 5/70\n",
      "26380/26380 [==============================] - 18s 689us/step - loss: 0.0465\n",
      "Epoch 6/70\n",
      "26380/26380 [==============================] - 18s 696us/step - loss: 0.0413\n",
      "Epoch 7/70\n",
      "26380/26380 [==============================] - 18s 680us/step - loss: 0.0367\n",
      "Epoch 8/70\n",
      "26380/26380 [==============================] - 18s 690us/step - loss: 0.0326\n",
      "Epoch 9/70\n",
      "26380/26380 [==============================] - 18s 686us/step - loss: 0.0290\n",
      "Epoch 10/70\n",
      "26380/26380 [==============================] - 18s 683us/step - loss: 0.0265\n",
      "Epoch 11/70\n",
      "26380/26380 [==============================] - 18s 686us/step - loss: 0.0240\n",
      "Epoch 12/70\n",
      "26380/26380 [==============================] - 18s 684us/step - loss: 0.0221\n",
      "Epoch 13/70\n",
      "26380/26380 [==============================] - 18s 700us/step - loss: 0.0205\n",
      "Epoch 14/70\n",
      "26380/26380 [==============================] - 18s 685us/step - loss: 0.0196\n",
      "Epoch 15/70\n",
      "26380/26380 [==============================] - 18s 685us/step - loss: 0.0182\n",
      "Epoch 16/70\n",
      "26380/26380 [==============================] - 18s 685us/step - loss: 0.0175\n",
      "Epoch 17/70\n",
      "26380/26380 [==============================] - 18s 680us/step - loss: 0.0164\n",
      "Epoch 18/70\n",
      "26380/26380 [==============================] - 18s 683us/step - loss: 0.0158\n",
      "Epoch 19/70\n",
      "26380/26380 [==============================] - 18s 688us/step - loss: 0.0160\n",
      "Epoch 20/70\n",
      "26380/26380 [==============================] - 18s 685us/step - loss: 0.0151\n",
      "Epoch 21/70\n",
      "26380/26380 [==============================] - 18s 689us/step - loss: 0.0149\n",
      "Epoch 22/70\n",
      "26380/26380 [==============================] - 18s 691us/step - loss: 0.0147\n",
      "Epoch 23/70\n",
      "26380/26380 [==============================] - 18s 701us/step - loss: 0.0145\n",
      "Epoch 24/70\n",
      "26380/26380 [==============================] - 18s 688us/step - loss: 0.0146\n",
      "Epoch 25/70\n",
      "26380/26380 [==============================] - 18s 693us/step - loss: 0.0144\n",
      "Epoch 26/70\n",
      "26380/26380 [==============================] - 18s 689us/step - loss: 0.0144\n",
      "Epoch 27/70\n",
      "26380/26380 [==============================] - 18s 691us/step - loss: 0.0141\n",
      "Epoch 28/70\n",
      "26380/26380 [==============================] - 18s 697us/step - loss: 0.0141\n",
      "Epoch 29/70\n",
      "26380/26380 [==============================] - 18s 689us/step - loss: 0.0139\n",
      "Epoch 30/70\n",
      "26380/26380 [==============================] - 18s 693us/step - loss: 0.0138\n",
      "Epoch 31/70\n",
      "26380/26380 [==============================] - 18s 685us/step - loss: 0.0139\n",
      "Epoch 32/70\n",
      "26380/26380 [==============================] - 18s 689us/step - loss: 0.0138\n",
      "Epoch 33/70\n",
      "26380/26380 [==============================] - 18s 689us/step - loss: 0.0138\n",
      "Epoch 34/70\n",
      "26380/26380 [==============================] - 18s 688us/step - loss: 0.0135\n",
      "Epoch 35/70\n",
      "26380/26380 [==============================] - 18s 682us/step - loss: 0.0136\n",
      "Epoch 36/70\n",
      "26380/26380 [==============================] - 18s 689us/step - loss: 0.0136\n",
      "Epoch 37/70\n",
      "26380/26380 [==============================] - 18s 683us/step - loss: 0.0137\n",
      "Epoch 38/70\n",
      "26380/26380 [==============================] - 18s 688us/step - loss: 0.0134\n",
      "Epoch 39/70\n",
      "26380/26380 [==============================] - 18s 683us/step - loss: 0.0134\n",
      "Epoch 40/70\n",
      "26380/26380 [==============================] - 18s 695us/step - loss: 0.0135\n",
      "Epoch 41/70\n",
      "26380/26380 [==============================] - 18s 686us/step - loss: 0.0134\n",
      "Epoch 42/70\n",
      "26380/26380 [==============================] - 18s 690us/step - loss: 0.0135\n",
      "Epoch 43/70\n",
      "26380/26380 [==============================] - 18s 683us/step - loss: 0.0131\n",
      "Epoch 44/70\n",
      "26380/26380 [==============================] - 18s 687us/step - loss: 0.0132\n",
      "Epoch 45/70\n",
      "26380/26380 [==============================] - 18s 684us/step - loss: 0.0131\n",
      "Epoch 46/70\n",
      "26380/26380 [==============================] - 18s 687us/step - loss: 0.0130\n",
      "Epoch 47/70\n",
      "26380/26380 [==============================] - 18s 698us/step - loss: 0.0127\n",
      "Epoch 48/70\n",
      "26380/26380 [==============================] - 18s 690us/step - loss: 0.0125\n",
      "Epoch 49/70\n",
      "26380/26380 [==============================] - 18s 690us/step - loss: 0.0127\n",
      "Epoch 50/70\n",
      "26380/26380 [==============================] - 18s 682us/step - loss: 0.0125\n",
      "Epoch 51/70\n",
      "26380/26380 [==============================] - 18s 684us/step - loss: 0.0124\n",
      "Epoch 52/70\n",
      "26380/26380 [==============================] - 18s 687us/step - loss: 0.0123\n",
      "Epoch 53/70\n",
      "26380/26380 [==============================] - 18s 683us/step - loss: 0.0124\n",
      "Epoch 54/70\n",
      "26380/26380 [==============================] - 18s 685us/step - loss: 0.0122\n",
      "Epoch 55/70\n",
      "26380/26380 [==============================] - 18s 680us/step - loss: 0.0122\n",
      "Epoch 56/70\n",
      "26380/26380 [==============================] - 18s 683us/step - loss: 0.0120\n",
      "Epoch 57/70\n",
      "26380/26380 [==============================] - 18s 697us/step - loss: 0.0119\n",
      "Epoch 58/70\n",
      "26380/26380 [==============================] - 18s 685us/step - loss: 0.0118\n",
      "Epoch 59/70\n",
      "26380/26380 [==============================] - 18s 683us/step - loss: 0.0116\n",
      "Epoch 60/70\n",
      "26380/26380 [==============================] - 18s 677us/step - loss: 0.0115\n",
      "Epoch 61/70\n",
      "26380/26380 [==============================] - 18s 684us/step - loss: 0.0115\n",
      "Epoch 62/70\n",
      "26380/26380 [==============================] - 18s 683us/step - loss: 0.0114\n",
      "Epoch 63/70\n",
      "26380/26380 [==============================] - 18s 679us/step - loss: 0.0114\n",
      "Epoch 64/70\n",
      "26380/26380 [==============================] - 18s 695us/step - loss: 0.0113\n",
      "Epoch 65/70\n",
      "26380/26380 [==============================] - 18s 685us/step - loss: 0.0113\n",
      "Epoch 66/70\n",
      "26380/26380 [==============================] - 18s 688us/step - loss: 0.0111\n",
      "Epoch 67/70\n",
      "26380/26380 [==============================] - 18s 682us/step - loss: 0.0109\n",
      "Epoch 68/70\n",
      "26380/26380 [==============================] - 18s 686us/step - loss: 0.0110\n",
      "Epoch 69/70\n",
      "26380/26380 [==============================] - 18s 685us/step - loss: 0.0109\n",
      "Epoch 70/70\n",
      "26380/26380 [==============================] - 18s 681us/step - loss: 0.0110\n"
     ]
    },
    {
     "data": {
      "text/plain": [
       "<keras.callbacks.History at 0x7f5c253d23c8>"
      ]
     },
     "execution_count": 24,
     "metadata": {
      "tags": []
     },
     "output_type": "execute_result"
    }
   ],
   "source": [
    "lstm_model2.compile(optimizer=\"adam\",loss=\"MSE\")\n",
    "lstm_model2.fit(X_train, y_train, epochs=70, batch_size=1024)"
   ]
  },
  {
   "cell_type": "code",
   "execution_count": null,
   "metadata": {
    "colab": {
     "base_uri": "https://localhost:8080/",
     "height": 1000
    },
    "colab_type": "code",
    "id": "AVcAo5jyQxGz",
    "outputId": "6ac920a4-894e-4e1d-9dd2-7c2953a636fe"
   },
   "outputs": [
    {
     "name": "stdout",
     "output_type": "stream",
     "text": [
      "Epoch 1/70\n",
      "26380/26380 [==============================] - 23s 854us/step - loss: 0.1727\n",
      "Epoch 2/70\n",
      "26380/26380 [==============================] - 18s 689us/step - loss: 0.0804\n",
      "Epoch 3/70\n",
      "26380/26380 [==============================] - 18s 685us/step - loss: 0.0609\n",
      "Epoch 4/70\n",
      "26380/26380 [==============================] - 19s 704us/step - loss: 0.0533\n",
      "Epoch 5/70\n",
      "26380/26380 [==============================] - 18s 689us/step - loss: 0.0473\n",
      "Epoch 6/70\n",
      "26380/26380 [==============================] - 18s 691us/step - loss: 0.0424\n",
      "Epoch 7/70\n",
      "26380/26380 [==============================] - 18s 699us/step - loss: 0.0373\n",
      "Epoch 8/70\n",
      "26380/26380 [==============================] - 18s 690us/step - loss: 0.0329\n",
      "Epoch 9/70\n",
      "26380/26380 [==============================] - 18s 686us/step - loss: 0.0290\n",
      "Epoch 10/70\n",
      "26380/26380 [==============================] - 18s 689us/step - loss: 0.0258\n",
      "Epoch 11/70\n",
      "26380/26380 [==============================] - 18s 694us/step - loss: 0.0233\n",
      "Epoch 12/70\n",
      "26380/26380 [==============================] - 18s 689us/step - loss: 0.0208\n",
      "Epoch 13/70\n",
      "26380/26380 [==============================] - 18s 688us/step - loss: 0.0197\n",
      "Epoch 14/70\n",
      "26380/26380 [==============================] - 18s 699us/step - loss: 0.0179\n",
      "Epoch 15/70\n",
      "26380/26380 [==============================] - 18s 700us/step - loss: 0.0171\n",
      "Epoch 16/70\n",
      "26380/26380 [==============================] - 19s 718us/step - loss: 0.0164\n",
      "Epoch 17/70\n",
      "26380/26380 [==============================] - 18s 697us/step - loss: 0.0158\n",
      "Epoch 18/70\n",
      "26380/26380 [==============================] - 18s 696us/step - loss: 0.0157\n",
      "Epoch 19/70\n",
      "26380/26380 [==============================] - 18s 688us/step - loss: 0.0152\n",
      "Epoch 20/70\n",
      "26380/26380 [==============================] - 18s 698us/step - loss: 0.0151\n",
      "Epoch 21/70\n",
      "26380/26380 [==============================] - 19s 716us/step - loss: 0.0148\n",
      "Epoch 22/70\n",
      "26380/26380 [==============================] - 18s 696us/step - loss: 0.0149\n",
      "Epoch 23/70\n",
      "26380/26380 [==============================] - 18s 694us/step - loss: 0.0146\n",
      "Epoch 24/70\n",
      "26380/26380 [==============================] - 18s 689us/step - loss: 0.0146\n",
      "Epoch 25/70\n",
      "26380/26380 [==============================] - 18s 700us/step - loss: 0.0144\n",
      "Epoch 26/70\n",
      "26380/26380 [==============================] - 18s 687us/step - loss: 0.0143\n",
      "Epoch 27/70\n",
      "26380/26380 [==============================] - 18s 694us/step - loss: 0.0142\n",
      "Epoch 28/70\n",
      "26380/26380 [==============================] - 19s 702us/step - loss: 0.0142\n",
      "Epoch 29/70\n",
      "26380/26380 [==============================] - 18s 694us/step - loss: 0.0141\n",
      "Epoch 30/70\n",
      "26380/26380 [==============================] - 18s 691us/step - loss: 0.0137\n",
      "Epoch 31/70\n",
      "26380/26380 [==============================] - 18s 694us/step - loss: 0.0138\n",
      "Epoch 32/70\n",
      "26380/26380 [==============================] - 18s 689us/step - loss: 0.0136\n",
      "Epoch 33/70\n",
      "26380/26380 [==============================] - 19s 735us/step - loss: 0.0138\n",
      "Epoch 34/70\n",
      "26380/26380 [==============================] - 18s 690us/step - loss: 0.0137\n",
      "Epoch 35/70\n",
      "26380/26380 [==============================] - 18s 691us/step - loss: 0.0135\n",
      "Epoch 36/70\n",
      "26380/26380 [==============================] - 18s 690us/step - loss: 0.0138\n",
      "Epoch 37/70\n",
      "26380/26380 [==============================] - 18s 691us/step - loss: 0.0133\n",
      "Epoch 38/70\n",
      "26380/26380 [==============================] - 19s 702us/step - loss: 0.0131\n",
      "Epoch 39/70\n",
      "26380/26380 [==============================] - 18s 688us/step - loss: 0.0131\n",
      "Epoch 40/70\n",
      "26380/26380 [==============================] - 18s 690us/step - loss: 0.0131\n",
      "Epoch 41/70\n",
      "26380/26380 [==============================] - 18s 691us/step - loss: 0.0130\n",
      "Epoch 42/70\n",
      "26380/26380 [==============================] - 18s 685us/step - loss: 0.0129\n",
      "Epoch 43/70\n",
      "26380/26380 [==============================] - 18s 689us/step - loss: 0.0129\n",
      "Epoch 44/70\n",
      "26380/26380 [==============================] - 18s 688us/step - loss: 0.0125\n",
      "Epoch 45/70\n",
      "26380/26380 [==============================] - 18s 689us/step - loss: 0.0123\n",
      "Epoch 46/70\n",
      "26380/26380 [==============================] - 18s 687us/step - loss: 0.0120\n",
      "Epoch 47/70\n",
      "26380/26380 [==============================] - 18s 691us/step - loss: 0.0120\n",
      "Epoch 48/70\n",
      "26380/26380 [==============================] - 18s 686us/step - loss: 0.0119\n",
      "Epoch 49/70\n",
      "26380/26380 [==============================] - 18s 691us/step - loss: 0.0119\n",
      "Epoch 50/70\n",
      "26380/26380 [==============================] - 19s 713us/step - loss: 0.0117\n",
      "Epoch 51/70\n",
      "26380/26380 [==============================] - 18s 692us/step - loss: 0.0115\n",
      "Epoch 52/70\n",
      "26380/26380 [==============================] - 18s 691us/step - loss: 0.0115\n",
      "Epoch 53/70\n",
      "26380/26380 [==============================] - 18s 690us/step - loss: 0.0113\n",
      "Epoch 54/70\n",
      "26380/26380 [==============================] - 18s 693us/step - loss: 0.0113\n",
      "Epoch 55/70\n",
      "26380/26380 [==============================] - 18s 699us/step - loss: 0.0111\n",
      "Epoch 56/70\n",
      "26380/26380 [==============================] - 18s 686us/step - loss: 0.0110\n",
      "Epoch 57/70\n",
      "26380/26380 [==============================] - 18s 688us/step - loss: 0.0112\n",
      "Epoch 58/70\n",
      "26380/26380 [==============================] - 18s 686us/step - loss: 0.0111\n",
      "Epoch 59/70\n",
      "26380/26380 [==============================] - 18s 685us/step - loss: 0.0109\n",
      "Epoch 60/70\n",
      "26380/26380 [==============================] - 18s 688us/step - loss: 0.0109\n",
      "Epoch 61/70\n",
      "26380/26380 [==============================] - 18s 693us/step - loss: 0.0109\n",
      "Epoch 62/70\n",
      "26380/26380 [==============================] - 18s 689us/step - loss: 0.0108\n",
      "Epoch 63/70\n",
      "26380/26380 [==============================] - 18s 695us/step - loss: 0.0108\n",
      "Epoch 64/70\n",
      "26380/26380 [==============================] - 18s 697us/step - loss: 0.0108\n",
      "Epoch 65/70\n",
      "26380/26380 [==============================] - 18s 685us/step - loss: 0.0106\n",
      "Epoch 66/70\n",
      "26380/26380 [==============================] - 18s 693us/step - loss: 0.0107\n",
      "Epoch 67/70\n",
      "26380/26380 [==============================] - 19s 709us/step - loss: 0.0106\n",
      "Epoch 68/70\n",
      "26380/26380 [==============================] - 18s 694us/step - loss: 0.0106\n",
      "Epoch 69/70\n",
      "26380/26380 [==============================] - 18s 686us/step - loss: 0.0105\n",
      "Epoch 70/70\n",
      "26380/26380 [==============================] - 18s 690us/step - loss: 0.0105\n"
     ]
    },
    {
     "data": {
      "text/plain": [
       "<keras.callbacks.History at 0x7f5c1cfb7320>"
      ]
     },
     "execution_count": 33,
     "metadata": {
      "tags": []
     },
     "output_type": "execute_result"
    }
   ],
   "source": [
    "lstm_model5.compile(optimizer=\"adam\",loss=\"MSE\")\n",
    "lstm_model5.fit(X_train, y_train, epochs=70, batch_size=1024)"
   ]
  },
  {
   "cell_type": "code",
   "execution_count": 1,
   "metadata": {
    "colab": {},
    "colab_type": "code",
    "id": "46o-H9HfVn7C"
   },
   "outputs": [],
   "source": []
  },
  {
   "cell_type": "code",
   "execution_count": 1,
   "metadata": {
    "colab": {},
    "colab_type": "code",
    "id": "GqhsIXbIIx00"
   },
   "outputs": [],
   "source": []
  },
  {
   "cell_type": "markdown",
   "metadata": {
    "colab_type": "text",
    "id": "XRByoTTllva-"
   },
   "source": []
  },
  {
   "cell_type": "code",
   "execution_count": 1,
   "metadata": {
    "colab": {},
    "colab_type": "code",
    "id": "4-o0QhuqW4WK"
   },
   "outputs": [],
   "source": [
    "\n",
    "    "
   ]
  },
  {
   "cell_type": "code",
   "execution_count": 1,
   "metadata": {
    "colab": {},
    "colab_type": "code",
    "id": "rvKqdd85_tyQ"
   },
   "outputs": [],
   "source": []
  },
  {
   "cell_type": "code",
   "execution_count": null,
   "metadata": {
    "colab": {},
    "colab_type": "code",
    "id": "5ukJM6rxK4uQ"
   },
   "outputs": [],
   "source": []
  },
  {
   "cell_type": "code",
   "execution_count": null,
   "metadata": {
    "colab": {},
    "colab_type": "code",
    "id": "sZ4VmIv8KZUI"
   },
   "outputs": [],
   "source": []
  },
  {
   "cell_type": "markdown",
   "metadata": {
    "colab_type": "text",
    "id": "AvgNvN1CEAB8"
   },
   "source": []
  },
  {
   "cell_type": "code",
   "execution_count": 1,
   "metadata": {
    "colab": {},
    "colab_type": "code",
    "id": "AHcJf_3-_t3r"
   },
   "outputs": [],
   "source": []
  },
  {
   "cell_type": "code",
   "execution_count": 1,
   "metadata": {
    "colab": {},
    "colab_type": "code",
    "id": "bf31qHRE_t6c"
   },
   "outputs": [],
   "source": []
  },
  {
   "cell_type": "code",
   "execution_count": null,
   "metadata": {
    "colab": {},
    "colab_type": "code",
    "id": "TGbtpe85_t89"
   },
   "outputs": [],
   "source": []
  },
  {
   "cell_type": "code",
   "execution_count": null,
   "metadata": {
    "colab": {},
    "colab_type": "code",
    "id": "956Fclz8_t_t"
   },
   "outputs": [],
   "source": []
  },
  {
   "cell_type": "code",
   "execution_count": null,
   "metadata": {
    "colab": {},
    "colab_type": "code",
    "id": "Q6mX1ZYn_uCk"
   },
   "outputs": [],
   "source": []
  },
  {
   "cell_type": "code",
   "execution_count": null,
   "metadata": {
    "colab": {},
    "colab_type": "code",
    "id": "kk_sfe0G_uFI"
   },
   "outputs": [],
   "source": []
  },
  {
   "cell_type": "code",
   "execution_count": null,
   "metadata": {
    "colab": {},
    "colab_type": "code",
    "id": "I2RZzCm4_uHs"
   },
   "outputs": [],
   "source": []
  },
  {
   "cell_type": "code",
   "execution_count": null,
   "metadata": {
    "colab": {},
    "colab_type": "code",
    "id": "ExAH38c9_uNO"
   },
   "outputs": [],
   "source": []
  },
  {
   "cell_type": "code",
   "execution_count": null,
   "metadata": {
    "colab": {},
    "colab_type": "code",
    "id": "0XiNHp0o_uQk"
   },
   "outputs": [],
   "source": []
  },
  {
   "cell_type": "code",
   "execution_count": null,
   "metadata": {
    "colab": {},
    "colab_type": "code",
    "id": "e6MyyNfo_uTO"
   },
   "outputs": [],
   "source": []
  },
  {
   "cell_type": "code",
   "execution_count": null,
   "metadata": {
    "colab": {},
    "colab_type": "code",
    "id": "6MCYcH8P_uV7"
   },
   "outputs": [],
   "source": []
  },
  {
   "cell_type": "code",
   "execution_count": null,
   "metadata": {
    "colab": {},
    "colab_type": "code",
    "id": "yMLKGLFy_udw"
   },
   "outputs": [],
   "source": []
  },
  {
   "cell_type": "code",
   "execution_count": null,
   "metadata": {
    "colab": {},
    "colab_type": "code",
    "id": "7Z_XQLaV_ua1"
   },
   "outputs": [],
   "source": []
  },
  {
   "cell_type": "code",
   "execution_count": null,
   "metadata": {
    "colab": {},
    "colab_type": "code",
    "id": "QOegGrrzPxXT"
   },
   "outputs": [],
   "source": []
  },
  {
   "cell_type": "code",
   "execution_count": null,
   "metadata": {
    "colab": {},
    "colab_type": "code",
    "id": "CmsMFhJsPxdF"
   },
   "outputs": [],
   "source": []
  },
  {
   "cell_type": "code",
   "execution_count": null,
   "metadata": {
    "colab": {},
    "colab_type": "code",
    "id": "RWx3ifolPxph"
   },
   "outputs": [],
   "source": []
  },
  {
   "cell_type": "code",
   "execution_count": null,
   "metadata": {
    "colab": {},
    "colab_type": "code",
    "id": "37-slTNgPxwE"
   },
   "outputs": [],
   "source": []
  },
  {
   "cell_type": "code",
   "execution_count": null,
   "metadata": {
    "colab": {},
    "colab_type": "code",
    "id": "iyzmlVuCPx8F"
   },
   "outputs": [],
   "source": []
  },
  {
   "cell_type": "code",
   "execution_count": null,
   "metadata": {
    "colab": {},
    "colab_type": "code",
    "id": "LshLmNTrPyEO"
   },
   "outputs": [],
   "source": []
  },
  {
   "cell_type": "code",
   "execution_count": null,
   "metadata": {
    "colab": {},
    "colab_type": "code",
    "id": "cRR2ec0NPyJT"
   },
   "outputs": [],
   "source": []
  },
  {
   "cell_type": "code",
   "execution_count": null,
   "metadata": {
    "colab": {},
    "colab_type": "code",
    "id": "GfoYhHoCPyB9"
   },
   "outputs": [],
   "source": []
  },
  {
   "cell_type": "code",
   "execution_count": null,
   "metadata": {
    "colab": {},
    "colab_type": "code",
    "id": "QXRtJlDFPx6o"
   },
   "outputs": [],
   "source": []
  },
  {
   "cell_type": "code",
   "execution_count": null,
   "metadata": {
    "colab": {},
    "colab_type": "code",
    "id": "-hrAQRmbPx39"
   },
   "outputs": [],
   "source": []
  },
  {
   "cell_type": "code",
   "execution_count": null,
   "metadata": {
    "colab": {},
    "colab_type": "code",
    "id": "vm1Ppn_TPxkV"
   },
   "outputs": [],
   "source": []
  },
  {
   "cell_type": "code",
   "execution_count": null,
   "metadata": {
    "colab": {},
    "colab_type": "code",
    "id": "HzxCD4IwPxiw"
   },
   "outputs": [],
   "source": []
  },
  {
   "cell_type": "code",
   "execution_count": null,
   "metadata": {
    "colab": {},
    "colab_type": "code",
    "id": "WIb0M1eiPxbF"
   },
   "outputs": [],
   "source": []
  },
  {
   "cell_type": "code",
   "execution_count": null,
   "metadata": {
    "colab": {},
    "colab_type": "code",
    "id": "uoBGrm_mPxTy"
   },
   "outputs": [],
   "source": []
  },
  {
   "cell_type": "code",
   "execution_count": null,
   "metadata": {
    "colab": {},
    "colab_type": "code",
    "id": "ulvUZqXOQU-U"
   },
   "outputs": [],
   "source": []
  },
  {
   "cell_type": "code",
   "execution_count": null,
   "metadata": {
    "colab": {},
    "colab_type": "code",
    "id": "nAFnf4FjQVFV"
   },
   "outputs": [],
   "source": []
  },
  {
   "cell_type": "code",
   "execution_count": null,
   "metadata": {
    "colab": {},
    "colab_type": "code",
    "id": "44A5vYOxQVPu"
   },
   "outputs": [],
   "source": []
  },
  {
   "cell_type": "code",
   "execution_count": null,
   "metadata": {
    "colab": {},
    "colab_type": "code",
    "id": "D1kt3yW9QVg-"
   },
   "outputs": [],
   "source": []
  },
  {
   "cell_type": "code",
   "execution_count": null,
   "metadata": {
    "colab": {},
    "colab_type": "code",
    "id": "mUMFJAkPQVMv"
   },
   "outputs": [],
   "source": []
  },
  {
   "cell_type": "code",
   "execution_count": null,
   "metadata": {
    "colab": {},
    "colab_type": "code",
    "id": "RtY9ipvtQU81"
   },
   "outputs": [],
   "source": []
  },
  {
   "cell_type": "code",
   "execution_count": null,
   "metadata": {
    "colab": {},
    "colab_type": "code",
    "id": "WLH1XWiOQU6p"
   },
   "outputs": [],
   "source": []
  },
  {
   "cell_type": "code",
   "execution_count": null,
   "metadata": {
    "colab": {},
    "colab_type": "code",
    "id": "FQQ341LSQcqu"
   },
   "outputs": [],
   "source": []
  },
  {
   "cell_type": "code",
   "execution_count": null,
   "metadata": {
    "colab": {},
    "colab_type": "code",
    "id": "ucl7VQMMQcvW"
   },
   "outputs": [],
   "source": []
  },
  {
   "cell_type": "code",
   "execution_count": null,
   "metadata": {
    "colab": {},
    "colab_type": "code",
    "id": "0E-D0YqZQcn_"
   },
   "outputs": [],
   "source": []
  },
  {
   "cell_type": "code",
   "execution_count": null,
   "metadata": {
    "colab": {},
    "colab_type": "code",
    "id": "RRN25QzTQcdN"
   },
   "outputs": [],
   "source": []
  },
  {
   "cell_type": "code",
   "execution_count": null,
   "metadata": {
    "colab": {},
    "colab_type": "code",
    "id": "4PCHAsBmQcZi"
   },
   "outputs": [],
   "source": []
  },
  {
   "cell_type": "code",
   "execution_count": null,
   "metadata": {
    "colab": {},
    "colab_type": "code",
    "id": "1D5gA-QmQcXa"
   },
   "outputs": [],
   "source": []
  },
  {
   "cell_type": "code",
   "execution_count": null,
   "metadata": {
    "colab": {},
    "colab_type": "code",
    "id": "SUdzEtv6Qwi0"
   },
   "outputs": [],
   "source": []
  },
  {
   "cell_type": "code",
   "execution_count": null,
   "metadata": {
    "colab": {},
    "colab_type": "code",
    "id": "WBfERVMxQw1d"
   },
   "outputs": [],
   "source": []
  },
  {
   "cell_type": "code",
   "execution_count": null,
   "metadata": {
    "colab": {},
    "colab_type": "code",
    "id": "3_58al5OQxIt"
   },
   "outputs": [],
   "source": []
  },
  {
   "cell_type": "code",
   "execution_count": null,
   "metadata": {
    "colab": {},
    "colab_type": "code",
    "id": "YpdZ7kJuQxWb"
   },
   "outputs": [],
   "source": []
  },
  {
   "cell_type": "code",
   "execution_count": null,
   "metadata": {
    "colab": {},
    "colab_type": "code",
    "id": "gJ4DGlvTQxpp"
   },
   "outputs": [],
   "source": []
  },
  {
   "cell_type": "code",
   "execution_count": null,
   "metadata": {
    "colab": {},
    "colab_type": "code",
    "id": "tpeXlNIoQxzr"
   },
   "outputs": [],
   "source": []
  },
  {
   "cell_type": "code",
   "execution_count": null,
   "metadata": {
    "colab": {},
    "colab_type": "code",
    "id": "_jPDUFWXQxwt"
   },
   "outputs": [],
   "source": []
  },
  {
   "cell_type": "code",
   "execution_count": null,
   "metadata": {
    "colab": {},
    "colab_type": "code",
    "id": "hZmXJCc4QxuW"
   },
   "outputs": [],
   "source": []
  },
  {
   "cell_type": "code",
   "execution_count": null,
   "metadata": {
    "colab": {},
    "colab_type": "code",
    "id": "0S67YWiaQxnt"
   },
   "outputs": [],
   "source": []
  },
  {
   "cell_type": "code",
   "execution_count": null,
   "metadata": {
    "colab": {},
    "colab_type": "code",
    "id": "Apsp5CNKQxjw"
   },
   "outputs": [],
   "source": []
  },
  {
   "cell_type": "code",
   "execution_count": null,
   "metadata": {
    "colab": {},
    "colab_type": "code",
    "id": "LRRBG3bzQxh-"
   },
   "outputs": [],
   "source": []
  },
  {
   "cell_type": "code",
   "execution_count": null,
   "metadata": {
    "colab": {},
    "colab_type": "code",
    "id": "IkP_4OSqQxd9"
   },
   "outputs": [],
   "source": []
  },
  {
   "cell_type": "code",
   "execution_count": null,
   "metadata": {
    "colab": {},
    "colab_type": "code",
    "id": "mxdq-1WnQxcE"
   },
   "outputs": [],
   "source": []
  },
  {
   "cell_type": "code",
   "execution_count": null,
   "metadata": {
    "colab": {},
    "colab_type": "code",
    "id": "R_A6v4VOQxUW"
   },
   "outputs": [],
   "source": []
  },
  {
   "cell_type": "code",
   "execution_count": null,
   "metadata": {
    "colab": {},
    "colab_type": "code",
    "id": "3yEZVRB8QxDf"
   },
   "outputs": [],
   "source": []
  },
  {
   "cell_type": "code",
   "execution_count": null,
   "metadata": {
    "colab": {},
    "colab_type": "code",
    "id": "qUIXjh9HQxB1"
   },
   "outputs": [],
   "source": []
  },
  {
   "cell_type": "code",
   "execution_count": null,
   "metadata": {
    "colab": {},
    "colab_type": "code",
    "id": "el_xAXvWQw-N"
   },
   "outputs": [],
   "source": []
  },
  {
   "cell_type": "code",
   "execution_count": null,
   "metadata": {
    "colab": {},
    "colab_type": "code",
    "id": "38kpsRg4Qw6i"
   },
   "outputs": [],
   "source": []
  },
  {
   "cell_type": "code",
   "execution_count": null,
   "metadata": {
    "colab": {},
    "colab_type": "code",
    "id": "rBgWn1uSQwz-"
   },
   "outputs": [],
   "source": []
  },
  {
   "cell_type": "code",
   "execution_count": null,
   "metadata": {
    "colab": {},
    "colab_type": "code",
    "id": "xN1G8dEPQwwW"
   },
   "outputs": [],
   "source": []
  },
  {
   "cell_type": "code",
   "execution_count": null,
   "metadata": {
    "colab": {},
    "colab_type": "code",
    "id": "guNpP9BBQwuG"
   },
   "outputs": [],
   "source": []
  },
  {
   "cell_type": "code",
   "execution_count": null,
   "metadata": {
    "colab": {},
    "colab_type": "code",
    "id": "kwNASaSIQwp6"
   },
   "outputs": [],
   "source": []
  },
  {
   "cell_type": "code",
   "execution_count": null,
   "metadata": {
    "colab": {},
    "colab_type": "code",
    "id": "qtr1F3CRQwn4"
   },
   "outputs": [],
   "source": []
  },
  {
   "cell_type": "code",
   "execution_count": null,
   "metadata": {
    "colab": {},
    "colab_type": "code",
    "id": "APMJbZaIQwfO"
   },
   "outputs": [],
   "source": []
  },
  {
   "cell_type": "code",
   "execution_count": null,
   "metadata": {
    "colab": {},
    "colab_type": "code",
    "id": "pcyqASpNRgPX"
   },
   "outputs": [],
   "source": []
  },
  {
   "cell_type": "code",
   "execution_count": null,
   "metadata": {
    "colab": {},
    "colab_type": "code",
    "id": "lPjCaE8JRgMD"
   },
   "outputs": [],
   "source": []
  },
  {
   "cell_type": "code",
   "execution_count": null,
   "metadata": {
    "colab": {},
    "colab_type": "code",
    "id": "ys3qShRGRgJi"
   },
   "outputs": [],
   "source": []
  },
  {
   "cell_type": "code",
   "execution_count": null,
   "metadata": {
    "colab": {},
    "colab_type": "code",
    "id": "MPpvRYB8RgEB"
   },
   "outputs": [],
   "source": []
  },
  {
   "cell_type": "code",
   "execution_count": null,
   "metadata": {
    "colab": {},
    "colab_type": "code",
    "id": "7wGyllD4RgCO"
   },
   "outputs": [],
   "source": []
  },
  {
   "cell_type": "code",
   "execution_count": null,
   "metadata": {
    "colab": {},
    "colab_type": "code",
    "id": "vkZ-9IlhRf9u"
   },
   "outputs": [],
   "source": []
  },
  {
   "cell_type": "code",
   "execution_count": null,
   "metadata": {
    "colab": {},
    "colab_type": "code",
    "id": "uSt2RPwNRf8A"
   },
   "outputs": [],
   "source": []
  },
  {
   "cell_type": "code",
   "execution_count": null,
   "metadata": {
    "colab": {},
    "colab_type": "code",
    "id": "0YG26od0Rf5k"
   },
   "outputs": [],
   "source": []
  },
  {
   "cell_type": "code",
   "execution_count": null,
   "metadata": {
    "colab": {},
    "colab_type": "code",
    "id": "Uq_P6q3iRf3y"
   },
   "outputs": [],
   "source": []
  },
  {
   "cell_type": "code",
   "execution_count": null,
   "metadata": {
    "colab": {},
    "colab_type": "code",
    "id": "ZZIp7zCyRf0u"
   },
   "outputs": [],
   "source": []
  },
  {
   "cell_type": "code",
   "execution_count": null,
   "metadata": {
    "colab": {},
    "colab_type": "code",
    "id": "_5baELyaRfwS"
   },
   "outputs": [],
   "source": []
  }
 ],
 "metadata": {
  "colab": {
   "name": "lstm model.ipynb",
   "provenance": []
  },
  "kernelspec": {
   "display_name": "Python 3",
   "language": "python",
   "name": "python3"
  },
  "language_info": {
   "codemirror_mode": {
    "name": "ipython",
    "version": 3
   },
   "file_extension": ".py",
   "mimetype": "text/x-python",
   "name": "python",
   "nbconvert_exporter": "python",
   "pygments_lexer": "ipython3",
   "version": "3.7.3"
  }
 },
 "nbformat": 4,
 "nbformat_minor": 1
}
